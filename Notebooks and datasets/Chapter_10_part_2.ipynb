{
  "nbformat": 4,
  "nbformat_minor": 0,
  "metadata": {
    "colab": {
      "provenance": [],
      "gpuType": "T4"
    },
    "kernelspec": {
      "name": "python3",
      "display_name": "Python 3"
    },
    "language_info": {
      "name": "python"
    },
    "accelerator": "GPU"
  },
  "cells": [
    {
      "cell_type": "code",
      "source": [
        "!pip install pygad"
      ],
      "metadata": {
        "colab": {
          "base_uri": "https://localhost:8080/"
        },
        "id": "foIm0-UhWH9G",
        "outputId": "21c549cc-173c-438c-e3e8-7778b0f1c7b7"
      },
      "execution_count": 1,
      "outputs": [
        {
          "output_type": "stream",
          "name": "stdout",
          "text": [
            "Collecting pygad\n",
            "  Downloading pygad-3.3.1-py3-none-any.whl.metadata (19 kB)\n",
            "Requirement already satisfied: cloudpickle in /usr/local/lib/python3.10/dist-packages (from pygad) (3.1.0)\n",
            "Requirement already satisfied: matplotlib in /usr/local/lib/python3.10/dist-packages (from pygad) (3.8.0)\n",
            "Requirement already satisfied: numpy in /usr/local/lib/python3.10/dist-packages (from pygad) (1.26.4)\n",
            "Requirement already satisfied: contourpy>=1.0.1 in /usr/local/lib/python3.10/dist-packages (from matplotlib->pygad) (1.3.0)\n",
            "Requirement already satisfied: cycler>=0.10 in /usr/local/lib/python3.10/dist-packages (from matplotlib->pygad) (0.12.1)\n",
            "Requirement already satisfied: fonttools>=4.22.0 in /usr/local/lib/python3.10/dist-packages (from matplotlib->pygad) (4.54.1)\n",
            "Requirement already satisfied: kiwisolver>=1.0.1 in /usr/local/lib/python3.10/dist-packages (from matplotlib->pygad) (1.4.7)\n",
            "Requirement already satisfied: packaging>=20.0 in /usr/local/lib/python3.10/dist-packages (from matplotlib->pygad) (24.2)\n",
            "Requirement already satisfied: pillow>=6.2.0 in /usr/local/lib/python3.10/dist-packages (from matplotlib->pygad) (11.0.0)\n",
            "Requirement already satisfied: pyparsing>=2.3.1 in /usr/local/lib/python3.10/dist-packages (from matplotlib->pygad) (3.2.0)\n",
            "Requirement already satisfied: python-dateutil>=2.7 in /usr/local/lib/python3.10/dist-packages (from matplotlib->pygad) (2.8.2)\n",
            "Requirement already satisfied: six>=1.5 in /usr/local/lib/python3.10/dist-packages (from python-dateutil>=2.7->matplotlib->pygad) (1.16.0)\n",
            "Downloading pygad-3.3.1-py3-none-any.whl (84 kB)\n",
            "\u001b[?25l   \u001b[90m━━━━━━━━━━━━━━━━━━━━━━━━━━━━━━━━━━━━━━━━\u001b[0m \u001b[32m0.0/84.1 kB\u001b[0m \u001b[31m?\u001b[0m eta \u001b[36m-:--:--\u001b[0m\r\u001b[2K   \u001b[90m━━━━━━━━━━━━━━━━━━━━━━━━━━━━━━━━━━━━━━━━\u001b[0m \u001b[32m84.1/84.1 kB\u001b[0m \u001b[31m3.3 MB/s\u001b[0m eta \u001b[36m0:00:00\u001b[0m\n",
            "\u001b[?25hInstalling collected packages: pygad\n",
            "Successfully installed pygad-3.3.1\n"
          ]
        }
      ]
    },
    {
      "cell_type": "code",
      "execution_count": 3,
      "metadata": {
        "colab": {
          "base_uri": "https://localhost:8080/",
          "height": 1000
        },
        "id": "FpNLxNwKVyQP",
        "outputId": "dd2b62c2-d48a-426a-b133-dbcd0841045a"
      },
      "outputs": [
        {
          "output_type": "stream",
          "name": "stderr",
          "text": [
            "/usr/local/lib/python3.10/dist-packages/pygad/pygad.py:1139: UserWarning: The 'delay_after_gen' parameter is deprecated starting from PyGAD 3.3.0. To delay or pause the evolution after each generation, assign a callback function/method to the 'on_generation' parameter to adds some time delay.\n",
            "  warnings.warn(\"The 'delay_after_gen' parameter is deprecated starting from PyGAD 3.3.0. To delay or pause the evolution after each generation, assign a callback function/method to the 'on_generation' parameter to adds some time delay.\")\n"
          ]
        },
        {
          "output_type": "stream",
          "name": "stdout",
          "text": [
            "GA Best Fitness: -1.0427943468093872\n",
            "Test RMSE after GA optimization: 1.0200\n",
            "Test R2 Score after GA optimization: -0.0439\n",
            "Test Accuracy after GA optimization: 0.7798\n"
          ]
        },
        {
          "output_type": "stream",
          "name": "stderr",
          "text": [
            "/usr/local/lib/python3.10/dist-packages/sklearn/metrics/_regression.py:492: FutureWarning: 'squared' is deprecated in version 1.4 and will be removed in 1.6. To calculate the root mean squared error, use the function'root_mean_squared_error'.\n",
            "  warnings.warn(\n",
            "/usr/local/lib/python3.10/dist-packages/sklearn/metrics/_regression.py:492: FutureWarning: 'squared' is deprecated in version 1.4 and will be removed in 1.6. To calculate the root mean squared error, use the function'root_mean_squared_error'.\n",
            "  warnings.warn(\n"
          ]
        },
        {
          "output_type": "stream",
          "name": "stdout",
          "text": [
            "Epoch [1/50], Train Loss: 0.0767, Test Loss: 0.0179, Test RMSE: 0.1339, Test R2: 0.9820, Test Accuracy: 0.9873\n"
          ]
        },
        {
          "output_type": "stream",
          "name": "stderr",
          "text": [
            "/usr/local/lib/python3.10/dist-packages/sklearn/metrics/_regression.py:492: FutureWarning: 'squared' is deprecated in version 1.4 and will be removed in 1.6. To calculate the root mean squared error, use the function'root_mean_squared_error'.\n",
            "  warnings.warn(\n"
          ]
        },
        {
          "output_type": "stream",
          "name": "stdout",
          "text": [
            "Epoch [2/50], Train Loss: 0.0178, Test Loss: 0.0095, Test RMSE: 0.0975, Test R2: 0.9905, Test Accuracy: 0.9926\n"
          ]
        },
        {
          "output_type": "stream",
          "name": "stderr",
          "text": [
            "/usr/local/lib/python3.10/dist-packages/sklearn/metrics/_regression.py:492: FutureWarning: 'squared' is deprecated in version 1.4 and will be removed in 1.6. To calculate the root mean squared error, use the function'root_mean_squared_error'.\n",
            "  warnings.warn(\n"
          ]
        },
        {
          "output_type": "stream",
          "name": "stdout",
          "text": [
            "Epoch [3/50], Train Loss: 0.0135, Test Loss: 0.0039, Test RMSE: 0.0627, Test R2: 0.9961, Test Accuracy: 0.9904\n"
          ]
        },
        {
          "output_type": "stream",
          "name": "stderr",
          "text": [
            "/usr/local/lib/python3.10/dist-packages/sklearn/metrics/_regression.py:492: FutureWarning: 'squared' is deprecated in version 1.4 and will be removed in 1.6. To calculate the root mean squared error, use the function'root_mean_squared_error'.\n",
            "  warnings.warn(\n"
          ]
        },
        {
          "output_type": "stream",
          "name": "stdout",
          "text": [
            "Epoch [4/50], Train Loss: 0.0125, Test Loss: 0.0047, Test RMSE: 0.0685, Test R2: 0.9953, Test Accuracy: 0.9940\n"
          ]
        },
        {
          "output_type": "stream",
          "name": "stderr",
          "text": [
            "/usr/local/lib/python3.10/dist-packages/sklearn/metrics/_regression.py:492: FutureWarning: 'squared' is deprecated in version 1.4 and will be removed in 1.6. To calculate the root mean squared error, use the function'root_mean_squared_error'.\n",
            "  warnings.warn(\n"
          ]
        },
        {
          "output_type": "stream",
          "name": "stdout",
          "text": [
            "Epoch [5/50], Train Loss: 0.0129, Test Loss: 0.0036, Test RMSE: 0.0596, Test R2: 0.9964, Test Accuracy: 0.9911\n"
          ]
        },
        {
          "output_type": "stream",
          "name": "stderr",
          "text": [
            "/usr/local/lib/python3.10/dist-packages/sklearn/metrics/_regression.py:492: FutureWarning: 'squared' is deprecated in version 1.4 and will be removed in 1.6. To calculate the root mean squared error, use the function'root_mean_squared_error'.\n",
            "  warnings.warn(\n"
          ]
        },
        {
          "output_type": "stream",
          "name": "stdout",
          "text": [
            "Epoch [6/50], Train Loss: 0.0122, Test Loss: 0.0043, Test RMSE: 0.0657, Test R2: 0.9957, Test Accuracy: 0.9936\n"
          ]
        },
        {
          "output_type": "stream",
          "name": "stderr",
          "text": [
            "/usr/local/lib/python3.10/dist-packages/sklearn/metrics/_regression.py:492: FutureWarning: 'squared' is deprecated in version 1.4 and will be removed in 1.6. To calculate the root mean squared error, use the function'root_mean_squared_error'.\n",
            "  warnings.warn(\n"
          ]
        },
        {
          "output_type": "stream",
          "name": "stdout",
          "text": [
            "Epoch [7/50], Train Loss: 0.0118, Test Loss: 0.0035, Test RMSE: 0.0589, Test R2: 0.9965, Test Accuracy: 0.9912\n"
          ]
        },
        {
          "output_type": "stream",
          "name": "stderr",
          "text": [
            "/usr/local/lib/python3.10/dist-packages/sklearn/metrics/_regression.py:492: FutureWarning: 'squared' is deprecated in version 1.4 and will be removed in 1.6. To calculate the root mean squared error, use the function'root_mean_squared_error'.\n",
            "  warnings.warn(\n"
          ]
        },
        {
          "output_type": "stream",
          "name": "stdout",
          "text": [
            "Epoch [8/50], Train Loss: 0.0119, Test Loss: 0.0026, Test RMSE: 0.0508, Test R2: 0.9974, Test Accuracy: 0.9936\n"
          ]
        },
        {
          "output_type": "stream",
          "name": "stderr",
          "text": [
            "/usr/local/lib/python3.10/dist-packages/sklearn/metrics/_regression.py:492: FutureWarning: 'squared' is deprecated in version 1.4 and will be removed in 1.6. To calculate the root mean squared error, use the function'root_mean_squared_error'.\n",
            "  warnings.warn(\n"
          ]
        },
        {
          "output_type": "stream",
          "name": "stdout",
          "text": [
            "Epoch [9/50], Train Loss: 0.0116, Test Loss: 0.0026, Test RMSE: 0.0512, Test R2: 0.9974, Test Accuracy: 0.9940\n"
          ]
        },
        {
          "output_type": "stream",
          "name": "stderr",
          "text": [
            "/usr/local/lib/python3.10/dist-packages/sklearn/metrics/_regression.py:492: FutureWarning: 'squared' is deprecated in version 1.4 and will be removed in 1.6. To calculate the root mean squared error, use the function'root_mean_squared_error'.\n",
            "  warnings.warn(\n"
          ]
        },
        {
          "output_type": "stream",
          "name": "stdout",
          "text": [
            "Epoch [10/50], Train Loss: 0.0113, Test Loss: 0.0022, Test RMSE: 0.0474, Test R2: 0.9977, Test Accuracy: 0.9926\n"
          ]
        },
        {
          "output_type": "stream",
          "name": "stderr",
          "text": [
            "/usr/local/lib/python3.10/dist-packages/sklearn/metrics/_regression.py:492: FutureWarning: 'squared' is deprecated in version 1.4 and will be removed in 1.6. To calculate the root mean squared error, use the function'root_mean_squared_error'.\n",
            "  warnings.warn(\n"
          ]
        },
        {
          "output_type": "stream",
          "name": "stdout",
          "text": [
            "Epoch [11/50], Train Loss: 0.0113, Test Loss: 0.0023, Test RMSE: 0.0475, Test R2: 0.9977, Test Accuracy: 0.9937\n"
          ]
        },
        {
          "output_type": "stream",
          "name": "stderr",
          "text": [
            "/usr/local/lib/python3.10/dist-packages/sklearn/metrics/_regression.py:492: FutureWarning: 'squared' is deprecated in version 1.4 and will be removed in 1.6. To calculate the root mean squared error, use the function'root_mean_squared_error'.\n",
            "  warnings.warn(\n"
          ]
        },
        {
          "output_type": "stream",
          "name": "stdout",
          "text": [
            "Epoch [12/50], Train Loss: 0.0108, Test Loss: 0.0023, Test RMSE: 0.0480, Test R2: 0.9977, Test Accuracy: 0.9909\n"
          ]
        },
        {
          "output_type": "stream",
          "name": "stderr",
          "text": [
            "/usr/local/lib/python3.10/dist-packages/sklearn/metrics/_regression.py:492: FutureWarning: 'squared' is deprecated in version 1.4 and will be removed in 1.6. To calculate the root mean squared error, use the function'root_mean_squared_error'.\n",
            "  warnings.warn(\n"
          ]
        },
        {
          "output_type": "stream",
          "name": "stdout",
          "text": [
            "Epoch [13/50], Train Loss: 0.0114, Test Loss: 0.0051, Test RMSE: 0.0716, Test R2: 0.9949, Test Accuracy: 0.9945\n"
          ]
        },
        {
          "output_type": "stream",
          "name": "stderr",
          "text": [
            "/usr/local/lib/python3.10/dist-packages/sklearn/metrics/_regression.py:492: FutureWarning: 'squared' is deprecated in version 1.4 and will be removed in 1.6. To calculate the root mean squared error, use the function'root_mean_squared_error'.\n",
            "  warnings.warn(\n"
          ]
        },
        {
          "output_type": "stream",
          "name": "stdout",
          "text": [
            "Epoch [14/50], Train Loss: 0.0110, Test Loss: 0.0024, Test RMSE: 0.0490, Test R2: 0.9976, Test Accuracy: 0.9937\n"
          ]
        },
        {
          "output_type": "stream",
          "name": "stderr",
          "text": [
            "/usr/local/lib/python3.10/dist-packages/sklearn/metrics/_regression.py:492: FutureWarning: 'squared' is deprecated in version 1.4 and will be removed in 1.6. To calculate the root mean squared error, use the function'root_mean_squared_error'.\n",
            "  warnings.warn(\n"
          ]
        },
        {
          "output_type": "stream",
          "name": "stdout",
          "text": [
            "Epoch [15/50], Train Loss: 0.0114, Test Loss: 0.0024, Test RMSE: 0.0494, Test R2: 0.9975, Test Accuracy: 0.9901\n"
          ]
        },
        {
          "output_type": "stream",
          "name": "stderr",
          "text": [
            "/usr/local/lib/python3.10/dist-packages/sklearn/metrics/_regression.py:492: FutureWarning: 'squared' is deprecated in version 1.4 and will be removed in 1.6. To calculate the root mean squared error, use the function'root_mean_squared_error'.\n",
            "  warnings.warn(\n"
          ]
        },
        {
          "output_type": "stream",
          "name": "stdout",
          "text": [
            "Epoch [16/50], Train Loss: 0.0112, Test Loss: 0.0017, Test RMSE: 0.0416, Test R2: 0.9983, Test Accuracy: 0.9945\n"
          ]
        },
        {
          "output_type": "stream",
          "name": "stderr",
          "text": [
            "/usr/local/lib/python3.10/dist-packages/sklearn/metrics/_regression.py:492: FutureWarning: 'squared' is deprecated in version 1.4 and will be removed in 1.6. To calculate the root mean squared error, use the function'root_mean_squared_error'.\n",
            "  warnings.warn(\n"
          ]
        },
        {
          "output_type": "stream",
          "name": "stdout",
          "text": [
            "Epoch [17/50], Train Loss: 0.0113, Test Loss: 0.0065, Test RMSE: 0.0808, Test R2: 0.9935, Test Accuracy: 0.9946\n"
          ]
        },
        {
          "output_type": "stream",
          "name": "stderr",
          "text": [
            "/usr/local/lib/python3.10/dist-packages/sklearn/metrics/_regression.py:492: FutureWarning: 'squared' is deprecated in version 1.4 and will be removed in 1.6. To calculate the root mean squared error, use the function'root_mean_squared_error'.\n",
            "  warnings.warn(\n"
          ]
        },
        {
          "output_type": "stream",
          "name": "stdout",
          "text": [
            "Epoch [18/50], Train Loss: 0.0113, Test Loss: 0.0018, Test RMSE: 0.0429, Test R2: 0.9982, Test Accuracy: 0.9946\n"
          ]
        },
        {
          "output_type": "stream",
          "name": "stderr",
          "text": [
            "/usr/local/lib/python3.10/dist-packages/sklearn/metrics/_regression.py:492: FutureWarning: 'squared' is deprecated in version 1.4 and will be removed in 1.6. To calculate the root mean squared error, use the function'root_mean_squared_error'.\n",
            "  warnings.warn(\n"
          ]
        },
        {
          "output_type": "stream",
          "name": "stdout",
          "text": [
            "Epoch [19/50], Train Loss: 0.0108, Test Loss: 0.0018, Test RMSE: 0.0419, Test R2: 0.9982, Test Accuracy: 0.9946\n"
          ]
        },
        {
          "output_type": "stream",
          "name": "stderr",
          "text": [
            "/usr/local/lib/python3.10/dist-packages/sklearn/metrics/_regression.py:492: FutureWarning: 'squared' is deprecated in version 1.4 and will be removed in 1.6. To calculate the root mean squared error, use the function'root_mean_squared_error'.\n",
            "  warnings.warn(\n"
          ]
        },
        {
          "output_type": "stream",
          "name": "stdout",
          "text": [
            "Epoch [20/50], Train Loss: 0.0109, Test Loss: 0.0059, Test RMSE: 0.0765, Test R2: 0.9941, Test Accuracy: 0.9899\n"
          ]
        },
        {
          "output_type": "stream",
          "name": "stderr",
          "text": [
            "/usr/local/lib/python3.10/dist-packages/sklearn/metrics/_regression.py:492: FutureWarning: 'squared' is deprecated in version 1.4 and will be removed in 1.6. To calculate the root mean squared error, use the function'root_mean_squared_error'.\n",
            "  warnings.warn(\n"
          ]
        },
        {
          "output_type": "stream",
          "name": "stdout",
          "text": [
            "Epoch [21/50], Train Loss: 0.0112, Test Loss: 0.0018, Test RMSE: 0.0421, Test R2: 0.9982, Test Accuracy: 0.9943\n"
          ]
        },
        {
          "output_type": "stream",
          "name": "stderr",
          "text": [
            "/usr/local/lib/python3.10/dist-packages/sklearn/metrics/_regression.py:492: FutureWarning: 'squared' is deprecated in version 1.4 and will be removed in 1.6. To calculate the root mean squared error, use the function'root_mean_squared_error'.\n",
            "  warnings.warn(\n"
          ]
        },
        {
          "output_type": "stream",
          "name": "stdout",
          "text": [
            "Epoch [22/50], Train Loss: 0.0114, Test Loss: 0.0019, Test RMSE: 0.0432, Test R2: 0.9981, Test Accuracy: 0.9912\n"
          ]
        },
        {
          "output_type": "stream",
          "name": "stderr",
          "text": [
            "/usr/local/lib/python3.10/dist-packages/sklearn/metrics/_regression.py:492: FutureWarning: 'squared' is deprecated in version 1.4 and will be removed in 1.6. To calculate the root mean squared error, use the function'root_mean_squared_error'.\n",
            "  warnings.warn(\n"
          ]
        },
        {
          "output_type": "stream",
          "name": "stdout",
          "text": [
            "Epoch [23/50], Train Loss: 0.0109, Test Loss: 0.0035, Test RMSE: 0.0593, Test R2: 0.9965, Test Accuracy: 0.9898\n"
          ]
        },
        {
          "output_type": "stream",
          "name": "stderr",
          "text": [
            "/usr/local/lib/python3.10/dist-packages/sklearn/metrics/_regression.py:492: FutureWarning: 'squared' is deprecated in version 1.4 and will be removed in 1.6. To calculate the root mean squared error, use the function'root_mean_squared_error'.\n",
            "  warnings.warn(\n"
          ]
        },
        {
          "output_type": "stream",
          "name": "stdout",
          "text": [
            "Epoch [24/50], Train Loss: 0.0114, Test Loss: 0.0026, Test RMSE: 0.0512, Test R2: 0.9974, Test Accuracy: 0.9914\n"
          ]
        },
        {
          "output_type": "stream",
          "name": "stderr",
          "text": [
            "/usr/local/lib/python3.10/dist-packages/sklearn/metrics/_regression.py:492: FutureWarning: 'squared' is deprecated in version 1.4 and will be removed in 1.6. To calculate the root mean squared error, use the function'root_mean_squared_error'.\n",
            "  warnings.warn(\n"
          ]
        },
        {
          "output_type": "stream",
          "name": "stdout",
          "text": [
            "Epoch [25/50], Train Loss: 0.0108, Test Loss: 0.0029, Test RMSE: 0.0536, Test R2: 0.9971, Test Accuracy: 0.9922\n"
          ]
        },
        {
          "output_type": "stream",
          "name": "stderr",
          "text": [
            "/usr/local/lib/python3.10/dist-packages/sklearn/metrics/_regression.py:492: FutureWarning: 'squared' is deprecated in version 1.4 and will be removed in 1.6. To calculate the root mean squared error, use the function'root_mean_squared_error'.\n",
            "  warnings.warn(\n"
          ]
        },
        {
          "output_type": "stream",
          "name": "stdout",
          "text": [
            "Epoch [26/50], Train Loss: 0.0114, Test Loss: 0.0019, Test RMSE: 0.0432, Test R2: 0.9981, Test Accuracy: 0.9924\n"
          ]
        },
        {
          "output_type": "stream",
          "name": "stderr",
          "text": [
            "/usr/local/lib/python3.10/dist-packages/sklearn/metrics/_regression.py:492: FutureWarning: 'squared' is deprecated in version 1.4 and will be removed in 1.6. To calculate the root mean squared error, use the function'root_mean_squared_error'.\n",
            "  warnings.warn(\n"
          ]
        },
        {
          "output_type": "stream",
          "name": "stdout",
          "text": [
            "Epoch [27/50], Train Loss: 0.0109, Test Loss: 0.0021, Test RMSE: 0.0458, Test R2: 0.9979, Test Accuracy: 0.9946\n"
          ]
        },
        {
          "output_type": "stream",
          "name": "stderr",
          "text": [
            "/usr/local/lib/python3.10/dist-packages/sklearn/metrics/_regression.py:492: FutureWarning: 'squared' is deprecated in version 1.4 and will be removed in 1.6. To calculate the root mean squared error, use the function'root_mean_squared_error'.\n",
            "  warnings.warn(\n"
          ]
        },
        {
          "output_type": "stream",
          "name": "stdout",
          "text": [
            "Epoch [28/50], Train Loss: 0.0113, Test Loss: 0.0042, Test RMSE: 0.0648, Test R2: 0.9958, Test Accuracy: 0.9885\n"
          ]
        },
        {
          "output_type": "stream",
          "name": "stderr",
          "text": [
            "/usr/local/lib/python3.10/dist-packages/sklearn/metrics/_regression.py:492: FutureWarning: 'squared' is deprecated in version 1.4 and will be removed in 1.6. To calculate the root mean squared error, use the function'root_mean_squared_error'.\n",
            "  warnings.warn(\n"
          ]
        },
        {
          "output_type": "stream",
          "name": "stdout",
          "text": [
            "Epoch [29/50], Train Loss: 0.0112, Test Loss: 0.0035, Test RMSE: 0.0588, Test R2: 0.9965, Test Accuracy: 0.9947\n"
          ]
        },
        {
          "output_type": "stream",
          "name": "stderr",
          "text": [
            "/usr/local/lib/python3.10/dist-packages/sklearn/metrics/_regression.py:492: FutureWarning: 'squared' is deprecated in version 1.4 and will be removed in 1.6. To calculate the root mean squared error, use the function'root_mean_squared_error'.\n",
            "  warnings.warn(\n"
          ]
        },
        {
          "output_type": "stream",
          "name": "stdout",
          "text": [
            "Epoch [30/50], Train Loss: 0.0109, Test Loss: 0.0020, Test RMSE: 0.0447, Test R2: 0.9980, Test Accuracy: 0.9946\n"
          ]
        },
        {
          "output_type": "stream",
          "name": "stderr",
          "text": [
            "/usr/local/lib/python3.10/dist-packages/sklearn/metrics/_regression.py:492: FutureWarning: 'squared' is deprecated in version 1.4 and will be removed in 1.6. To calculate the root mean squared error, use the function'root_mean_squared_error'.\n",
            "  warnings.warn(\n"
          ]
        },
        {
          "output_type": "stream",
          "name": "stdout",
          "text": [
            "Epoch [31/50], Train Loss: 0.0112, Test Loss: 0.0042, Test RMSE: 0.0646, Test R2: 0.9958, Test Accuracy: 0.9947\n"
          ]
        },
        {
          "output_type": "stream",
          "name": "stderr",
          "text": [
            "/usr/local/lib/python3.10/dist-packages/sklearn/metrics/_regression.py:492: FutureWarning: 'squared' is deprecated in version 1.4 and will be removed in 1.6. To calculate the root mean squared error, use the function'root_mean_squared_error'.\n",
            "  warnings.warn(\n"
          ]
        },
        {
          "output_type": "stream",
          "name": "stdout",
          "text": [
            "Epoch [32/50], Train Loss: 0.0109, Test Loss: 0.0067, Test RMSE: 0.0817, Test R2: 0.9933, Test Accuracy: 0.9905\n"
          ]
        },
        {
          "output_type": "stream",
          "name": "stderr",
          "text": [
            "/usr/local/lib/python3.10/dist-packages/sklearn/metrics/_regression.py:492: FutureWarning: 'squared' is deprecated in version 1.4 and will be removed in 1.6. To calculate the root mean squared error, use the function'root_mean_squared_error'.\n",
            "  warnings.warn(\n"
          ]
        },
        {
          "output_type": "stream",
          "name": "stdout",
          "text": [
            "Epoch [33/50], Train Loss: 0.0109, Test Loss: 0.0035, Test RMSE: 0.0594, Test R2: 0.9965, Test Accuracy: 0.9944\n"
          ]
        },
        {
          "output_type": "stream",
          "name": "stderr",
          "text": [
            "/usr/local/lib/python3.10/dist-packages/sklearn/metrics/_regression.py:492: FutureWarning: 'squared' is deprecated in version 1.4 and will be removed in 1.6. To calculate the root mean squared error, use the function'root_mean_squared_error'.\n",
            "  warnings.warn(\n"
          ]
        },
        {
          "output_type": "stream",
          "name": "stdout",
          "text": [
            "Epoch [34/50], Train Loss: 0.0108, Test Loss: 0.0019, Test RMSE: 0.0441, Test R2: 0.9981, Test Accuracy: 0.9916\n"
          ]
        },
        {
          "output_type": "stream",
          "name": "stderr",
          "text": [
            "/usr/local/lib/python3.10/dist-packages/sklearn/metrics/_regression.py:492: FutureWarning: 'squared' is deprecated in version 1.4 and will be removed in 1.6. To calculate the root mean squared error, use the function'root_mean_squared_error'.\n",
            "  warnings.warn(\n"
          ]
        },
        {
          "output_type": "stream",
          "name": "stdout",
          "text": [
            "Epoch [35/50], Train Loss: 0.0110, Test Loss: 0.0080, Test RMSE: 0.0896, Test R2: 0.9919, Test Accuracy: 0.9868\n"
          ]
        },
        {
          "output_type": "stream",
          "name": "stderr",
          "text": [
            "/usr/local/lib/python3.10/dist-packages/sklearn/metrics/_regression.py:492: FutureWarning: 'squared' is deprecated in version 1.4 and will be removed in 1.6. To calculate the root mean squared error, use the function'root_mean_squared_error'.\n",
            "  warnings.warn(\n"
          ]
        },
        {
          "output_type": "stream",
          "name": "stdout",
          "text": [
            "Epoch [36/50], Train Loss: 0.0111, Test Loss: 0.0032, Test RMSE: 0.0567, Test R2: 0.9968, Test Accuracy: 0.9955\n"
          ]
        },
        {
          "output_type": "stream",
          "name": "stderr",
          "text": [
            "/usr/local/lib/python3.10/dist-packages/sklearn/metrics/_regression.py:492: FutureWarning: 'squared' is deprecated in version 1.4 and will be removed in 1.6. To calculate the root mean squared error, use the function'root_mean_squared_error'.\n",
            "  warnings.warn(\n"
          ]
        },
        {
          "output_type": "stream",
          "name": "stdout",
          "text": [
            "Epoch [37/50], Train Loss: 0.0113, Test Loss: 0.0026, Test RMSE: 0.0514, Test R2: 0.9974, Test Accuracy: 0.9934\n"
          ]
        },
        {
          "output_type": "stream",
          "name": "stderr",
          "text": [
            "/usr/local/lib/python3.10/dist-packages/sklearn/metrics/_regression.py:492: FutureWarning: 'squared' is deprecated in version 1.4 and will be removed in 1.6. To calculate the root mean squared error, use the function'root_mean_squared_error'.\n",
            "  warnings.warn(\n"
          ]
        },
        {
          "output_type": "stream",
          "name": "stdout",
          "text": [
            "Epoch [38/50], Train Loss: 0.0111, Test Loss: 0.0024, Test RMSE: 0.0489, Test R2: 0.9976, Test Accuracy: 0.9927\n"
          ]
        },
        {
          "output_type": "stream",
          "name": "stderr",
          "text": [
            "/usr/local/lib/python3.10/dist-packages/sklearn/metrics/_regression.py:492: FutureWarning: 'squared' is deprecated in version 1.4 and will be removed in 1.6. To calculate the root mean squared error, use the function'root_mean_squared_error'.\n",
            "  warnings.warn(\n"
          ]
        },
        {
          "output_type": "stream",
          "name": "stdout",
          "text": [
            "Epoch [39/50], Train Loss: 0.0111, Test Loss: 0.0026, Test RMSE: 0.0506, Test R2: 0.9974, Test Accuracy: 0.9951\n"
          ]
        },
        {
          "output_type": "stream",
          "name": "stderr",
          "text": [
            "/usr/local/lib/python3.10/dist-packages/sklearn/metrics/_regression.py:492: FutureWarning: 'squared' is deprecated in version 1.4 and will be removed in 1.6. To calculate the root mean squared error, use the function'root_mean_squared_error'.\n",
            "  warnings.warn(\n"
          ]
        },
        {
          "output_type": "stream",
          "name": "stdout",
          "text": [
            "Epoch [40/50], Train Loss: 0.0112, Test Loss: 0.0040, Test RMSE: 0.0633, Test R2: 0.9960, Test Accuracy: 0.9949\n"
          ]
        },
        {
          "output_type": "stream",
          "name": "stderr",
          "text": [
            "/usr/local/lib/python3.10/dist-packages/sklearn/metrics/_regression.py:492: FutureWarning: 'squared' is deprecated in version 1.4 and will be removed in 1.6. To calculate the root mean squared error, use the function'root_mean_squared_error'.\n",
            "  warnings.warn(\n"
          ]
        },
        {
          "output_type": "stream",
          "name": "stdout",
          "text": [
            "Epoch [41/50], Train Loss: 0.0107, Test Loss: 0.0015, Test RMSE: 0.0391, Test R2: 0.9985, Test Accuracy: 0.9961\n"
          ]
        },
        {
          "output_type": "stream",
          "name": "stderr",
          "text": [
            "/usr/local/lib/python3.10/dist-packages/sklearn/metrics/_regression.py:492: FutureWarning: 'squared' is deprecated in version 1.4 and will be removed in 1.6. To calculate the root mean squared error, use the function'root_mean_squared_error'.\n",
            "  warnings.warn(\n"
          ]
        },
        {
          "output_type": "stream",
          "name": "stdout",
          "text": [
            "Epoch [42/50], Train Loss: 0.0111, Test Loss: 0.0016, Test RMSE: 0.0399, Test R2: 0.9984, Test Accuracy: 0.9951\n"
          ]
        },
        {
          "output_type": "stream",
          "name": "stderr",
          "text": [
            "/usr/local/lib/python3.10/dist-packages/sklearn/metrics/_regression.py:492: FutureWarning: 'squared' is deprecated in version 1.4 and will be removed in 1.6. To calculate the root mean squared error, use the function'root_mean_squared_error'.\n",
            "  warnings.warn(\n"
          ]
        },
        {
          "output_type": "stream",
          "name": "stdout",
          "text": [
            "Epoch [43/50], Train Loss: 0.0110, Test Loss: 0.0022, Test RMSE: 0.0465, Test R2: 0.9978, Test Accuracy: 0.9951\n"
          ]
        },
        {
          "output_type": "stream",
          "name": "stderr",
          "text": [
            "/usr/local/lib/python3.10/dist-packages/sklearn/metrics/_regression.py:492: FutureWarning: 'squared' is deprecated in version 1.4 and will be removed in 1.6. To calculate the root mean squared error, use the function'root_mean_squared_error'.\n",
            "  warnings.warn(\n"
          ]
        },
        {
          "output_type": "stream",
          "name": "stdout",
          "text": [
            "Epoch [44/50], Train Loss: 0.0112, Test Loss: 0.0019, Test RMSE: 0.0438, Test R2: 0.9981, Test Accuracy: 0.9965\n"
          ]
        },
        {
          "output_type": "stream",
          "name": "stderr",
          "text": [
            "/usr/local/lib/python3.10/dist-packages/sklearn/metrics/_regression.py:492: FutureWarning: 'squared' is deprecated in version 1.4 and will be removed in 1.6. To calculate the root mean squared error, use the function'root_mean_squared_error'.\n",
            "  warnings.warn(\n"
          ]
        },
        {
          "output_type": "stream",
          "name": "stdout",
          "text": [
            "Epoch [45/50], Train Loss: 0.0112, Test Loss: 0.0018, Test RMSE: 0.0419, Test R2: 0.9982, Test Accuracy: 0.9914\n"
          ]
        },
        {
          "output_type": "stream",
          "name": "stderr",
          "text": [
            "/usr/local/lib/python3.10/dist-packages/sklearn/metrics/_regression.py:492: FutureWarning: 'squared' is deprecated in version 1.4 and will be removed in 1.6. To calculate the root mean squared error, use the function'root_mean_squared_error'.\n",
            "  warnings.warn(\n"
          ]
        },
        {
          "output_type": "stream",
          "name": "stdout",
          "text": [
            "Epoch [46/50], Train Loss: 0.0115, Test Loss: 0.0024, Test RMSE: 0.0487, Test R2: 0.9976, Test Accuracy: 0.9919\n"
          ]
        },
        {
          "output_type": "stream",
          "name": "stderr",
          "text": [
            "/usr/local/lib/python3.10/dist-packages/sklearn/metrics/_regression.py:492: FutureWarning: 'squared' is deprecated in version 1.4 and will be removed in 1.6. To calculate the root mean squared error, use the function'root_mean_squared_error'.\n",
            "  warnings.warn(\n"
          ]
        },
        {
          "output_type": "stream",
          "name": "stdout",
          "text": [
            "Epoch [47/50], Train Loss: 0.0113, Test Loss: 0.0019, Test RMSE: 0.0435, Test R2: 0.9981, Test Accuracy: 0.9963\n"
          ]
        },
        {
          "output_type": "stream",
          "name": "stderr",
          "text": [
            "/usr/local/lib/python3.10/dist-packages/sklearn/metrics/_regression.py:492: FutureWarning: 'squared' is deprecated in version 1.4 and will be removed in 1.6. To calculate the root mean squared error, use the function'root_mean_squared_error'.\n",
            "  warnings.warn(\n"
          ]
        },
        {
          "output_type": "stream",
          "name": "stdout",
          "text": [
            "Epoch [48/50], Train Loss: 0.0110, Test Loss: 0.0105, Test RMSE: 0.1026, Test R2: 0.9894, Test Accuracy: 0.9952\n"
          ]
        },
        {
          "output_type": "stream",
          "name": "stderr",
          "text": [
            "/usr/local/lib/python3.10/dist-packages/sklearn/metrics/_regression.py:492: FutureWarning: 'squared' is deprecated in version 1.4 and will be removed in 1.6. To calculate the root mean squared error, use the function'root_mean_squared_error'.\n",
            "  warnings.warn(\n"
          ]
        },
        {
          "output_type": "stream",
          "name": "stdout",
          "text": [
            "Epoch [49/50], Train Loss: 0.0111, Test Loss: 0.0029, Test RMSE: 0.0538, Test R2: 0.9971, Test Accuracy: 0.9976\n"
          ]
        },
        {
          "output_type": "stream",
          "name": "stderr",
          "text": [
            "/usr/local/lib/python3.10/dist-packages/sklearn/metrics/_regression.py:492: FutureWarning: 'squared' is deprecated in version 1.4 and will be removed in 1.6. To calculate the root mean squared error, use the function'root_mean_squared_error'.\n",
            "  warnings.warn(\n"
          ]
        },
        {
          "output_type": "stream",
          "name": "stdout",
          "text": [
            "Epoch [50/50], Train Loss: 0.0112, Test Loss: 0.0046, Test RMSE: 0.0675, Test R2: 0.9954, Test Accuracy: 0.9964\n"
          ]
        },
        {
          "output_type": "display_data",
          "data": {
            "text/plain": [
              "<Figure size 1800x500 with 3 Axes>"
            ],
            "image/png": "[encoded data removed]"
          },
          "metadata": {}
        }
      ],
      "source": [
        "import pandas as pd\n",
        "import numpy as np\n",
        "import matplotlib.pyplot as plt\n",
        "import torch\n",
        "import torch.nn as nn\n",
        "import torch.optim as optim\n",
        "import pygad\n",
        "from pygad.torchga import TorchGA\n",
        "from sklearn.model_selection import train_test_split\n",
        "from sklearn.preprocessing import StandardScaler, OneHotEncoder\n",
        "from sklearn.metrics import mean_squared_error, r2_score, accuracy_score\n",
        "from torch.utils.data import DataLoader, TensorDataset\n",
        "\n",
        "# Load dataset\n",
        "file_path = '/content/sample_data/DataCoSupplyChainDatasetCleaned.csv'\n",
        "df = pd.read_csv(file_path, encoding='ISO-8859-1')\n",
        "\n",
        "# Preprocess the dataset\n",
        "available_features = df.columns.tolist()\n",
        "features = [f for f in [\n",
        "    'Sales per customer', 'Benefit per order', 'Product Category Id',\n",
        "    'Product Name', 'Product Description', 'Customer Segment', 'Customer Country',\n",
        "    'Customer City', 'Order Quantity', 'Shipping Mode', 'Order Status',\n",
        "    'Delivery Status', 'Late_delivery_risk'\n",
        "] if f in available_features]\n",
        "\n",
        "# Ensure the target variable 'Product Price' is included\n",
        "if 'Product Price' in available_features:\n",
        "    df = df[['Product Price'] + features]\n",
        "    df.fillna(df.median(numeric_only=True), inplace=True)  # Fill missing values with median for numeric columns\n",
        "\n",
        "    # Handle categorical features\n",
        "    categorical_features = df.select_dtypes(include=['object']).columns\n",
        "    if len(categorical_features) > 0:\n",
        "        encoder = OneHotEncoder(sparse_output=False, handle_unknown='ignore')\n",
        "        categorical_encoded = encoder.fit_transform(df[categorical_features])\n",
        "\n",
        "        # Drop original categorical columns and add encoded ones\n",
        "        df = df.drop(categorical_features, axis=1)\n",
        "        categorical_encoded_df = pd.DataFrame(categorical_encoded, columns=encoder.get_feature_names_out(categorical_features))\n",
        "        df = pd.concat([df.reset_index(drop=True), categorical_encoded_df.reset_index(drop=True)], axis=1)\n",
        "\n",
        "    # Features and target variable\n",
        "    y = df['Product Price'].values\n",
        "    X = df.drop('Product Price', axis=1).values\n",
        "\n",
        "    # Feature Scaling\n",
        "    scaler_X = StandardScaler()\n",
        "    X_scaled = scaler_X.fit_transform(X)\n",
        "\n",
        "    # Optionally scale the target variable\n",
        "    scaler_y = StandardScaler()\n",
        "    y_scaled = scaler_y.fit_transform(y.reshape(-1, 1)).flatten()\n",
        "\n",
        "    # Split dataset into training and testing sets\n",
        "    X_train, X_test, y_train_scaled, y_test_scaled = train_test_split(X_scaled, y_scaled, test_size=0.2, random_state=42)\n",
        "\n",
        "    # Convert data to tensors\n",
        "    device = torch.device('cuda' if torch.cuda.is_available() else 'cpu')\n",
        "    X_train_tensor = torch.tensor(X_train, dtype=torch.float32).to(device)\n",
        "    X_test_tensor = torch.tensor(X_test, dtype=torch.float32).to(device)\n",
        "    y_train_tensor = torch.tensor(y_train_scaled, dtype=torch.float32).view(-1, 1).to(device)\n",
        "    y_test_tensor = torch.tensor(y_test_scaled, dtype=torch.float32).view(-1, 1).to(device)\n",
        "\n",
        "    # Create DataLoader for batch processing\n",
        "    batch_size = 64\n",
        "    train_dataset = TensorDataset(X_train_tensor, y_train_tensor)\n",
        "    test_dataset = TensorDataset(X_test_tensor, y_test_tensor)\n",
        "    train_loader = DataLoader(train_dataset, batch_size=batch_size, shuffle=True)\n",
        "    test_loader = DataLoader(test_dataset, batch_size=batch_size, shuffle=False)\n",
        "\n",
        "    # Simple Feedforward Neural Network Model\n",
        "    class SimpleModel(nn.Module):\n",
        "        def __init__(self, input_dim, hidden_dim, output_dim, dropout_rate):\n",
        "            super(SimpleModel, self).__init__()\n",
        "            self.fc1 = nn.Linear(input_dim, hidden_dim)\n",
        "            self.dropout = nn.Dropout(dropout_rate)\n",
        "            self.relu = nn.ReLU()\n",
        "            self.fc2 = nn.Linear(hidden_dim, output_dim)\n",
        "\n",
        "        def forward(self, x):\n",
        "            x = self.relu(self.fc1(x))\n",
        "            x = self.dropout(x)\n",
        "            x = self.fc2(x)\n",
        "            return x\n",
        "\n",
        "    # Model Parameters\n",
        "    input_dim = X_train.shape[1]\n",
        "    hidden_dim = 64\n",
        "    output_dim = 1\n",
        "    dropout_rate = 0.2\n",
        "\n",
        "    # Initialize model\n",
        "    model = SimpleModel(input_dim, hidden_dim, output_dim, dropout_rate).to(device)\n",
        "\n",
        "    # Use TorchGA to prepare the model for PyGAD\n",
        "    torch_ga = TorchGA(model=model, num_solutions=10)\n",
        "\n",
        "    # Define a fitness function for the Genetic Algorithm\n",
        "    def fitness_function(ga_instance, solution, sol_idx):\n",
        "        # Update model weights with the solution\n",
        "        model_weights_dict = pygad.torchga.model_weights_as_dict(model=model, weights_vector=solution)\n",
        "        model.load_state_dict(model_weights_dict)\n",
        "\n",
        "        # Evaluate the model\n",
        "        model.eval()\n",
        "        with torch.no_grad():\n",
        "            y_pred_train = model(X_train_tensor)\n",
        "            train_loss = nn.MSELoss()(y_pred_train, y_train_tensor)\n",
        "            if torch.isnan(train_loss) or torch.isinf(train_loss):\n",
        "                fitness = -1e10  # Penalize invalid solutions\n",
        "            else:\n",
        "                # Fitness is negative MSE (since PyGAD maximizes fitness)\n",
        "                fitness = -train_loss.item()\n",
        "        return fitness\n",
        "\n",
        "    # GA Parameters\n",
        "    ga_instance = pygad.GA(num_generations=50,\n",
        "                           num_parents_mating=5,\n",
        "                           initial_population=torch_ga.population_weights,\n",
        "                           fitness_func=fitness_function,\n",
        "                           mutation_percent_genes=10,\n",
        "                           mutation_type=\"random\",\n",
        "                           mutation_probability=0.1,\n",
        "                           crossover_type=\"single_point\",\n",
        "                           parent_selection_type=\"tournament\",\n",
        "                           K_tournament=3,\n",
        "                           keep_parents=2)\n",
        "\n",
        "    # Run the Genetic Algorithm\n",
        "    ga_instance.run()\n",
        "\n",
        "    # After GA completes, get the best solution\n",
        "    solution, solution_fitness, solution_idx = ga_instance.best_solution()\n",
        "    print(f\"GA Best Fitness: {solution_fitness}\")\n",
        "\n",
        "    # Update the model with the best solution\n",
        "    model_weights_dict = pygad.torchga.model_weights_as_dict(model=model, weights_vector=solution)\n",
        "    model.load_state_dict(model_weights_dict)\n",
        "\n",
        "    # Evaluate the model on the test set\n",
        "    model.eval()\n",
        "    with torch.no_grad():\n",
        "        y_pred_test = model(X_test_tensor)\n",
        "        y_pred_test_numpy = y_pred_test.cpu().numpy()\n",
        "        y_test_numpy = y_test_tensor.cpu().numpy()\n",
        "\n",
        "        # Handle NaNs in predictions by replacing them with the mean of non-NaN values\n",
        "        if np.isnan(y_pred_test_numpy).any():\n",
        "            nan_indices = np.isnan(y_pred_test_numpy)\n",
        "            non_nan_values = y_pred_test_numpy[~nan_indices]\n",
        "            if len(non_nan_values) > 0:\n",
        "                mean_value = np.mean(non_nan_values)\n",
        "            else:\n",
        "                mean_value = 0.0  # If all values are NaN, replace with zero (or another constant)\n",
        "            y_pred_test_numpy[nan_indices] = mean_value\n",
        "\n",
        "        # Calculate metrics\n",
        "        test_rmse = mean_squared_error(y_test_numpy, y_pred_test_numpy, squared=False)\n",
        "        test_r2 = r2_score(y_test_numpy, y_pred_test_numpy)\n",
        "\n",
        "        # Calculate accuracy (for classification-like interpretation)\n",
        "        y_pred_binary = np.where(y_pred_test_numpy > 0.5, 1, 0)\n",
        "        y_test_binary = np.where(y_test_numpy > 0.5, 1, 0)\n",
        "        test_accuracy = accuracy_score(y_test_binary, y_pred_binary)\n",
        "\n",
        "    print(f\"Test RMSE after GA optimization: {test_rmse:.4f}\")\n",
        "    print(f\"Test R2 Score after GA optimization: {test_r2:.4f}\")\n",
        "    print(f\"Test Accuracy after GA optimization: {test_accuracy:.4f}\")\n",
        "\n",
        "    # Fine-tune the model using traditional training\n",
        "    num_epochs = 50\n",
        "    optimizer = optim.Adam(model.parameters(), lr=0.001)\n",
        "    criterion = nn.MSELoss()\n",
        "\n",
        "    train_losses = []\n",
        "    test_losses = []\n",
        "    test_rmse_list = []\n",
        "    test_r2_list = []\n",
        "    test_accuracy_list = []\n",
        "\n",
        "    for epoch in range(num_epochs):\n",
        "        model.train()\n",
        "        epoch_train_loss = 0\n",
        "        for batch_X, batch_y in train_loader:\n",
        "            batch_X, batch_y = batch_X.to(device), batch_y.to(device)\n",
        "            optimizer.zero_grad()\n",
        "            y_pred_train = model(batch_X)\n",
        "            train_loss = criterion(y_pred_train, batch_y)\n",
        "            train_loss.backward()\n",
        "            torch.nn.utils.clip_grad_norm_(model.parameters(), max_norm=1.0)  # Gradient clipping\n",
        "            optimizer.step()\n",
        "            epoch_train_loss += train_loss.item() * batch_X.size(0)\n",
        "        train_losses.append(epoch_train_loss / len(train_loader.dataset))\n",
        "\n",
        "        # Evaluate on test set\n",
        "        model.eval()\n",
        "        epoch_test_loss = 0\n",
        "        with torch.no_grad():\n",
        "            for batch_X, batch_y in test_loader:\n",
        "                batch_X, batch_y = batch_X.to(device), batch_y.to(device)\n",
        "                y_pred_test = model(batch_X)\n",
        "                test_loss = criterion(y_pred_test, batch_y)\n",
        "                epoch_test_loss += test_loss.item() * batch_X.size(0)\n",
        "\n",
        "            y_pred_test = model(X_test_tensor)\n",
        "            y_pred_test_numpy = y_pred_test.cpu().numpy()\n",
        "            y_test_numpy = y_test_tensor.cpu().numpy()\n",
        "\n",
        "            # Handle NaNs in predictions\n",
        "            if np.isnan(y_pred_test_numpy).any():\n",
        "                nan_indices = np.isnan(y_pred_test_numpy)\n",
        "                non_nan_values = y_pred_test_numpy[~nan_indices]\n",
        "                if len(non_nan_values) > 0:\n",
        "                    mean_value = np.mean(non_nan_values)\n",
        "                else:\n",
        "                    mean_value = 0.0\n",
        "                y_pred_test_numpy[nan_indices] = mean_value\n",
        "\n",
        "            test_rmse = mean_squared_error(y_test_numpy, y_pred_test_numpy, squared=False)\n",
        "            test_r2 = r2_score(y_test_numpy, y_pred_test_numpy)\n",
        "\n",
        "            # Calculate accuracy (for classification-like interpretation)\n",
        "            y_pred_binary = np.where(y_pred_test_numpy > 0.5, 1, 0)\n",
        "            y_test_binary = np.where(y_test_numpy > 0.5, 1, 0)\n",
        "            test_accuracy = accuracy_score(y_test_binary, y_pred_binary)\n",
        "\n",
        "        test_losses.append(epoch_test_loss / len(test_loader.dataset))\n",
        "        test_rmse_list.append(test_rmse)\n",
        "        test_r2_list.append(test_r2)\n",
        "        test_accuracy_list.append(test_accuracy)\n",
        "\n",
        "        print(f\"Epoch [{epoch+1}/{num_epochs}], \"\n",
        "              f\"Train Loss: {train_losses[-1]:.4f}, \"\n",
        "              f\"Test Loss: {test_losses[-1]:.4f}, \"\n",
        "              f\"Test RMSE: {test_rmse:.4f}, \"\n",
        "              f\"Test R2: {test_r2:.4f}, \"\n",
        "              f\"Test Accuracy: {test_accuracy:.4f}\")\n",
        "\n",
        "    # Plotting the metrics over epochs\n",
        "    plt.figure(figsize=(18, 5))\n",
        "\n",
        "    plt.subplot(1, 3, 1)\n",
        "    plt.plot(train_losses, label='Train Loss')\n",
        "    plt.plot(test_losses, label='Test Loss')\n",
        "    plt.xlabel('Epoch')\n",
        "    plt.ylabel('Loss')\n",
        "    plt.title('Loss over Epochs')\n",
        "    plt.legend()\n",
        "\n",
        "    plt.subplot(1, 3, 2)\n",
        "    plt.plot(test_rmse_list, label='Test RMSE')\n",
        "    plt.plot(test_r2_list, label='Test R2 Score')\n",
        "    plt.xlabel('Epoch')\n",
        "    plt.ylabel('Metric Value')\n",
        "    plt.title('Test RMSE and R2 Score over Epochs')\n",
        "    plt.legend()\n",
        "\n",
        "    plt.subplot(1, 3, 3)\n",
        "    plt.plot(test_accuracy_list, label='Test Accuracy')\n",
        "    plt.xlabel('Epoch')\n",
        "    plt.ylabel('Accuracy')\n",
        "    plt.title('Test Accuracy over Epochs')\n",
        "    plt.legend()\n",
        "\n",
        "    plt.tight_layout()\n",
        "    plt.show()\n",
        "else:\n",
        "    print(\"Error: 'Product Price' column not found in the dataset.\")"
      ]
    }
  ]
}